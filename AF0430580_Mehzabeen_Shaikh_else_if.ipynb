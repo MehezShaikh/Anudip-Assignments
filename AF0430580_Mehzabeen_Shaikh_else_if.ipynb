{
  "nbformat": 4,
  "nbformat_minor": 0,
  "metadata": {
    "colab": {
      "provenance": []
    },
    "kernelspec": {
      "name": "python3",
      "display_name": "Python 3"
    },
    "language_info": {
      "name": "python"
    }
  },
  "cells": [
    {
      "cell_type": "markdown",
      "source": [
        "1: Write a Python program that checks if a given number is even. If it is, print \"Even number\"."
      ],
      "metadata": {
        "id": "7xRaGpz4B-Pg"
      }
    },
    {
      "cell_type": "code",
      "source": [
        "def is_even(number):\n",
        "    if number % 2 == 0:\n",
        "        return \"Even number\"\n",
        "number = int(input(\"Enter a number:\"))\n",
        "is_even(number)"
      ],
      "metadata": {
        "colab": {
          "base_uri": "https://localhost:8080/",
          "height": 53
        },
        "id": "3TxebmtsCKcv",
        "outputId": "a5b6d34b-3a8d-42c7-8eda-d808f95b5c42"
      },
      "execution_count": null,
      "outputs": [
        {
          "name": "stdout",
          "output_type": "stream",
          "text": [
            "Enter a number:12\n"
          ]
        },
        {
          "output_type": "execute_result",
          "data": {
            "text/plain": [
              "'Even number'"
            ],
            "application/vnd.google.colaboratory.intrinsic+json": {
              "type": "string"
            }
          },
          "metadata": {},
          "execution_count": 11
        }
      ]
    },
    {
      "cell_type": "markdown",
      "source": [
        "2: Write a Python program that checks if a given string contains the letter 'a'. If it does, print \"String contains 'a'\"."
      ],
      "metadata": {
        "id": "E5JTpMrWD_xE"
      }
    },
    {
      "cell_type": "code",
      "source": [
        "def contains_a(string):\n",
        "    if('a' in string):\n",
        "        return \"String contains 'a'\"\n",
        "string = input(\"Enter a string:\")\n",
        "contains_a(string)"
      ],
      "metadata": {
        "id": "HZza4YeiEBho"
      },
      "execution_count": null,
      "outputs": []
    },
    {
      "cell_type": "markdown",
      "source": [
        "3: Write a Python program that checks if a given year is a leap year. If it is, print \"Leap year\"."
      ],
      "metadata": {
        "id": "FtEN2g1nEZzV"
      }
    },
    {
      "cell_type": "code",
      "source": [
        "def is_leap_year(year):\n",
        "    if(year % 4 == 0):\n",
        "        return \"Leap year\"\n",
        "year = int(input(\"Enter a year:\"))\n",
        "is_leap_year(year)"
      ],
      "metadata": {
        "colab": {
          "base_uri": "https://localhost:8080/",
          "height": 53
        },
        "id": "SZdZ-pGiEdCe",
        "outputId": "f575c2a9-33ff-4e59-a09a-ce863e6370df"
      },
      "execution_count": null,
      "outputs": [
        {
          "name": "stdout",
          "output_type": "stream",
          "text": [
            "Enter a year:2000\n"
          ]
        },
        {
          "output_type": "execute_result",
          "data": {
            "text/plain": [
              "'Leap year'"
            ],
            "application/vnd.google.colaboratory.intrinsic+json": {
              "type": "string"
            }
          },
          "metadata": {},
          "execution_count": 14
        }
      ]
    },
    {
      "cell_type": "markdown",
      "source": [
        "4: Write a Python program that checks if a given number is positive. If it is, print \"Positive number\"."
      ],
      "metadata": {
        "id": "LLxPO36RE9m4"
      }
    },
    {
      "cell_type": "code",
      "source": [
        "def is_positive(number):\n",
        "    if(number > 0):\n",
        "        return \"Positive number\"\n",
        "number = int(input(\"Enter a number:\"))\n",
        "is_positive(number)"
      ],
      "metadata": {
        "colab": {
          "base_uri": "https://localhost:8080/",
          "height": 53
        },
        "id": "5wUee70nE_DD",
        "outputId": "e111ab46-8f52-4434-f657-520182c76d99"
      },
      "execution_count": null,
      "outputs": [
        {
          "name": "stdout",
          "output_type": "stream",
          "text": [
            "Enter a number:5\n"
          ]
        },
        {
          "output_type": "execute_result",
          "data": {
            "text/plain": [
              "'Positive number'"
            ],
            "application/vnd.google.colaboratory.intrinsic+json": {
              "type": "string"
            }
          },
          "metadata": {},
          "execution_count": 15
        }
      ]
    },
    {
      "cell_type": "markdown",
      "source": [
        " 5: Write a Python program that checks if a given character is a vowel. If it is, print \"Vowel\"."
      ],
      "metadata": {
        "id": "RSOe0UpbFORT"
      }
    },
    {
      "cell_type": "code",
      "source": [
        "def is_vowel(character):\n",
        "    if(character in 'aeiouAEIOU'):\n",
        "        return \"Vowel\"\n",
        "character = input(\"Enter a character:\")\n",
        "is_vowel(character)"
      ],
      "metadata": {
        "colab": {
          "base_uri": "https://localhost:8080/",
          "height": 53
        },
        "id": "ay43ls33FaSm",
        "outputId": "3e57a4ed-5faf-4c67-a77d-c40ed1489a96"
      },
      "execution_count": null,
      "outputs": [
        {
          "name": "stdout",
          "output_type": "stream",
          "text": [
            "Enter a character:a\n"
          ]
        },
        {
          "output_type": "execute_result",
          "data": {
            "text/plain": [
              "'Vowel'"
            ],
            "application/vnd.google.colaboratory.intrinsic+json": {
              "type": "string"
            }
          },
          "metadata": {},
          "execution_count": 16
        }
      ]
    },
    {
      "cell_type": "markdown",
      "source": [
        " 6: Write a Python program that checks if a given number is greater than 100. If it is, print \"Greater than 100\"."
      ],
      "metadata": {
        "id": "ZpYU2D-oFi7_"
      }
    },
    {
      "cell_type": "code",
      "source": [
        "def is_greater_than_100(number):\n",
        "    if(number > 100):\n",
        "        return \"Greater than 100\"\n",
        "number = int(input(\"Enter a number:\"))\n",
        "is_greater_than_100(number)\n"
      ],
      "metadata": {
        "colab": {
          "base_uri": "https://localhost:8080/",
          "height": 53
        },
        "id": "AFt7jbg0Fp6l",
        "outputId": "616900a5-e6aa-46a8-a557-c82b657ad8f1"
      },
      "execution_count": null,
      "outputs": [
        {
          "name": "stdout",
          "output_type": "stream",
          "text": [
            "Enter a number:101\n"
          ]
        },
        {
          "output_type": "execute_result",
          "data": {
            "text/plain": [
              "'Greater than 100'"
            ],
            "application/vnd.google.colaboratory.intrinsic+json": {
              "type": "string"
            }
          },
          "metadata": {},
          "execution_count": 17
        }
      ]
    },
    {
      "cell_type": "markdown",
      "source": [
        " 7: Write a Python program that checks if a given string is empty. If it is, print \"Empty string\"."
      ],
      "metadata": {
        "id": "rClRo7nrF1fv"
      }
    },
    {
      "cell_type": "code",
      "source": [
        "def is_empty(string):\n",
        "    if(len(string) == 0):\n",
        "        return \"Empty string\"\n",
        "string = input(\"Enter a string:\")\n",
        "is_empty(string)"
      ],
      "metadata": {
        "colab": {
          "base_uri": "https://localhost:8080/",
          "height": 53
        },
        "id": "TllJIY7QF9Oh",
        "outputId": "b842f972-bf99-4620-a373-1015c37d69c6"
      },
      "execution_count": null,
      "outputs": [
        {
          "name": "stdout",
          "output_type": "stream",
          "text": [
            "Enter a string:\n"
          ]
        },
        {
          "output_type": "execute_result",
          "data": {
            "text/plain": [
              "'Empty string'"
            ],
            "application/vnd.google.colaboratory.intrinsic+json": {
              "type": "string"
            }
          },
          "metadata": {},
          "execution_count": 24
        }
      ]
    },
    {
      "cell_type": "markdown",
      "source": [
        "8: Write a Python program that checks if a given number is divisible by both 5 and 7. If it is, print \"Divisible by 5 and 7\"."
      ],
      "metadata": {
        "id": "SomG1Ng_G04M"
      }
    },
    {
      "cell_type": "code",
      "source": [
        "def is_divisible_by_5_and_7(number):\n",
        "    if(number % 5 == 0 and number % 7 == 0):\n",
        "        return \"Divisible by 5 and 7\"\n",
        "number = int(input(\"Enter a number:\"))"
      ],
      "metadata": {
        "colab": {
          "base_uri": "https://localhost:8080/"
        },
        "id": "JJeeoai0UCTY",
        "outputId": "f2132fe9-fcd2-4382-d134-e4d380fccda2"
      },
      "execution_count": null,
      "outputs": [
        {
          "name": "stdout",
          "output_type": "stream",
          "text": [
            "Enter a number:35\n"
          ]
        }
      ]
    },
    {
      "cell_type": "markdown",
      "source": [
        "9: Write a Python program that checks if a given list contains any negative numbers. If it does, print \"List contains negative numbers\"."
      ],
      "metadata": {
        "id": "vFiZi7WkUvfA"
      }
    },
    {
      "cell_type": "code",
      "source": [
        "def contains_negative_numbers(lst):\n",
        "    for num in lst:\n",
        "        if num < 0:\n",
        "            return \"List contains negative numbers\"\n",
        "lst = [1, 2, 3, -4, 5]\n",
        "contains_negative_numbers(lst)"
      ],
      "metadata": {
        "colab": {
          "base_uri": "https://localhost:8080/",
          "height": 36
        },
        "id": "w29_iOlbU3KR",
        "outputId": "7250b1b5-8a2e-4005-9579-b13c524d18b5"
      },
      "execution_count": null,
      "outputs": [
        {
          "output_type": "execute_result",
          "data": {
            "text/plain": [
              "'List contains negative numbers'"
            ],
            "application/vnd.google.colaboratory.intrinsic+json": {
              "type": "string"
            }
          },
          "metadata": {},
          "execution_count": 30
        }
      ]
    },
    {
      "cell_type": "markdown",
      "source": [
        "10: Write a Python program that checks if a given word is a palindrome. If it is, print \"Palindrome\".\n",
        "if-else statements:"
      ],
      "metadata": {
        "id": "Ub5GlLAnU8Cy"
      }
    },
    {
      "cell_type": "code",
      "source": [
        "def is_palindrome(word):\n",
        "    if word == word[::-1]:\n",
        "        return \"Palindrome\"\n",
        "word = input(\"Enter a word:\")\n",
        "is_palindrome(word)"
      ],
      "metadata": {
        "colab": {
          "base_uri": "https://localhost:8080/",
          "height": 53
        },
        "id": "heZeI2uqVFCP",
        "outputId": "8ecb8b21-3fed-457d-ae7d-b44e83a40a0c"
      },
      "execution_count": null,
      "outputs": [
        {
          "name": "stdout",
          "output_type": "stream",
          "text": [
            "Enter a word:madam\n"
          ]
        },
        {
          "output_type": "execute_result",
          "data": {
            "text/plain": [
              "'Palindrome'"
            ],
            "application/vnd.google.colaboratory.intrinsic+json": {
              "type": "string"
            }
          },
          "metadata": {},
          "execution_count": 32
        }
      ]
    },
    {
      "cell_type": "markdown",
      "source": [
        "11: Write a Python program that checks if a given number is positive. If it is, print \"Positive number\"; otherwise, print \"Negative number\"."
      ],
      "metadata": {
        "id": "J4HDB3SMVa-_"
      }
    },
    {
      "cell_type": "code",
      "source": [
        "def check_number(number):\n",
        "    if number > 0:\n",
        "        return \"Positive number\"\n",
        "    else:\n",
        "        return \"Negative number\"\n",
        "number = int(input(\"Enter a number:\"))\n",
        "check_number(number)"
      ],
      "metadata": {
        "colab": {
          "base_uri": "https://localhost:8080/",
          "height": 53
        },
        "id": "wYcSPJU3Vpah",
        "outputId": "182634c4-cc65-4adf-dbac-b10b6517fbd0"
      },
      "execution_count": null,
      "outputs": [
        {
          "name": "stdout",
          "output_type": "stream",
          "text": [
            "Enter a number:-1\n"
          ]
        },
        {
          "output_type": "execute_result",
          "data": {
            "text/plain": [
              "'Negative number'"
            ],
            "application/vnd.google.colaboratory.intrinsic+json": {
              "type": "string"
            }
          },
          "metadata": {},
          "execution_count": 34
        }
      ]
    },
    {
      "cell_type": "markdown",
      "source": [
        "12: Write a Python program that checks if a given string is empty. If it is, print \"Empty string\"; otherwise, print \"Non-empty string\"."
      ],
      "metadata": {
        "id": "sU8uvaAoWIyz"
      }
    },
    {
      "cell_type": "code",
      "source": [
        "def check_string(string):\n",
        "    if len(string) == 0:\n",
        "        return \"Empty string\"\n",
        "    else:\n",
        "        return \"Non-empty string\"\n",
        "string = input(\"Enter a string:\")\n",
        "check_string(string)"
      ],
      "metadata": {
        "colab": {
          "base_uri": "https://localhost:8080/",
          "height": 53
        },
        "id": "MiL5FJhvWOGu",
        "outputId": "53b1245b-d475-420c-8f6d-462138b5f694"
      },
      "execution_count": null,
      "outputs": [
        {
          "name": "stdout",
          "output_type": "stream",
          "text": [
            "Enter a string:\n"
          ]
        },
        {
          "output_type": "execute_result",
          "data": {
            "text/plain": [
              "'Empty string'"
            ],
            "application/vnd.google.colaboratory.intrinsic+json": {
              "type": "string"
            }
          },
          "metadata": {},
          "execution_count": 35
        }
      ]
    },
    {
      "cell_type": "markdown",
      "source": [
        "13: Write a Python program that checks if a given number is even. If it is, print \"Even number\"; otherwise, print \"Odd number\"."
      ],
      "metadata": {
        "id": "MWOTWe-sWUJN"
      }
    },
    {
      "cell_type": "code",
      "source": [
        "def check_number(number):\n",
        "    if number % 2 == 0:\n",
        "        return \"Even number\"\n",
        "    else:\n",
        "        return \"Odd number\"\n",
        "number = int(input(\"Enter a number:\"))\n",
        "check_number(number)"
      ],
      "metadata": {
        "colab": {
          "base_uri": "https://localhost:8080/",
          "height": 53
        },
        "id": "KRoztv1xWgcU",
        "outputId": "b135d498-a316-4446-db68-b8944ee4df06"
      },
      "execution_count": null,
      "outputs": [
        {
          "name": "stdout",
          "output_type": "stream",
          "text": [
            "Enter a number:9\n"
          ]
        },
        {
          "output_type": "execute_result",
          "data": {
            "text/plain": [
              "'Odd number'"
            ],
            "application/vnd.google.colaboratory.intrinsic+json": {
              "type": "string"
            }
          },
          "metadata": {},
          "execution_count": 36
        }
      ]
    },
    {
      "cell_type": "markdown",
      "source": [
        "14: Write a Python program that checks if a given character is a vowel. If it is, print \"Vowel\"; otherwise, print \"Consonant\"."
      ],
      "metadata": {
        "id": "IuAlLNoXWmse"
      }
    },
    {
      "cell_type": "code",
      "source": [
        "def check_character(character):\n",
        "    if character in 'aeiouAEIOU':\n",
        "        return \"Vowel\"\n",
        "    else:\n",
        "        return \"Consonant\"\n",
        "character = input(\"Enter a character:\")\n",
        "check_character(character)"
      ],
      "metadata": {
        "colab": {
          "base_uri": "https://localhost:8080/",
          "height": 53
        },
        "id": "nrShDNBzWsn2",
        "outputId": "722c0937-7333-4bcd-a3c9-95f4141888c4"
      },
      "execution_count": null,
      "outputs": [
        {
          "name": "stdout",
          "output_type": "stream",
          "text": [
            "Enter a character:i\n"
          ]
        },
        {
          "output_type": "execute_result",
          "data": {
            "text/plain": [
              "'Vowel'"
            ],
            "application/vnd.google.colaboratory.intrinsic+json": {
              "type": "string"
            }
          },
          "metadata": {},
          "execution_count": 37
        }
      ]
    },
    {
      "cell_type": "markdown",
      "source": [
        "15: Write a Python program that checks if a given year is a leap year. If it is, print \"Leap year\"; otherwise, print \"Not a leap year\"."
      ],
      "metadata": {
        "id": "WuPlPLwdW0Tz"
      }
    },
    {
      "cell_type": "code",
      "source": [
        "def check_year(year):\n",
        "    if (year % 4 == 0 and year % 100 != 0) or (year % 400 == 0):\n",
        "        return \"Leap year\"\n",
        "    else:\n",
        "        return \"Not a leap year\"\n",
        "\n",
        "        year = int(input(\"Enter a year:\"))\n",
        "        result = check_year(year)\n",
        "        print(result)"
      ],
      "metadata": {
        "id": "ekP6fenlW3Af"
      },
      "execution_count": null,
      "outputs": []
    },
    {
      "cell_type": "markdown",
      "source": [
        "16: Write a Python program that checks if a given number is divisible by 3. If it is, print \"Divisible by 3\"; otherwise, print \"Not divisible by 3\"."
      ],
      "metadata": {
        "id": "sDXLcCpYXwqK"
      }
    },
    {
      "cell_type": "code",
      "source": [
        "def check_number(number):\n",
        "    if number % 3 == 0:\n",
        "        return \"Divisible by 3\"\n",
        "    else:\n",
        "        return \"Not divisible by 3\"\n",
        "number = int(input(\"Enter a number:\"))\n",
        "check_number(number)"
      ],
      "metadata": {
        "colab": {
          "base_uri": "https://localhost:8080/",
          "height": 53
        },
        "id": "APeXJpH1XzKp",
        "outputId": "fd9d9546-46a0-44d8-a0e8-7e6041c26edb"
      },
      "execution_count": null,
      "outputs": [
        {
          "name": "stdout",
          "output_type": "stream",
          "text": [
            "Enter a number:7\n"
          ]
        },
        {
          "output_type": "execute_result",
          "data": {
            "text/plain": [
              "'Not divisible by 3'"
            ],
            "application/vnd.google.colaboratory.intrinsic+json": {
              "type": "string"
            }
          },
          "metadata": {},
          "execution_count": 58
        }
      ]
    },
    {
      "cell_type": "markdown",
      "source": [
        "17: Write a Python program that checks if a given string is a palindrome. If it is, print \"Palindrome\"; otherwise, print \"Not a palindrome\"."
      ],
      "metadata": {
        "id": "3mT5ieA6X-Em"
      }
    },
    {
      "cell_type": "code",
      "source": [
        "def check_string(string):\n",
        "    if string == string[::-1]:\n",
        "        return \"Palindrome\"\n",
        "    else:\n",
        "        return \"Not a palindrome\"\n",
        "string = input(\"Enter a string:\")\n",
        "check_string(string)"
      ],
      "metadata": {
        "colab": {
          "base_uri": "https://localhost:8080/",
          "height": 53
        },
        "id": "qxPchRFNYHq4",
        "outputId": "8d8abec3-4b09-438c-ccfe-2c786b873f2d"
      },
      "execution_count": null,
      "outputs": [
        {
          "name": "stdout",
          "output_type": "stream",
          "text": [
            "Enter a string:mam\n"
          ]
        },
        {
          "output_type": "execute_result",
          "data": {
            "text/plain": [
              "'Palindrome'"
            ],
            "application/vnd.google.colaboratory.intrinsic+json": {
              "type": "string"
            }
          },
          "metadata": {},
          "execution_count": 59
        }
      ]
    },
    {
      "cell_type": "markdown",
      "source": [
        "18: Write a Python program that checks if a given list is empty. If it is, print \"Empty list\"; otherwise, print \"Non-empty list\"."
      ],
      "metadata": {
        "id": "MFh1PwVnYMP6"
      }
    },
    {
      "cell_type": "code",
      "source": [
        "def check_list(lst):\n",
        "    if len(lst) == 0:\n",
        "        return \"Empty list\"\n",
        "    else:\n",
        "        return \"Non-empty list\"\n",
        "lst = []\n",
        "check_list(lst)"
      ],
      "metadata": {
        "colab": {
          "base_uri": "https://localhost:8080/",
          "height": 36
        },
        "id": "QjbCU6oPYQ2z",
        "outputId": "5fd94c5c-0a22-46ef-ec46-f124d6cca2b0"
      },
      "execution_count": null,
      "outputs": [
        {
          "output_type": "execute_result",
          "data": {
            "text/plain": [
              "'Empty list'"
            ],
            "application/vnd.google.colaboratory.intrinsic+json": {
              "type": "string"
            }
          },
          "metadata": {},
          "execution_count": 60
        }
      ]
    },
    {
      "cell_type": "markdown",
      "source": [
        "19: Write a Python program that checks if a given number is greater than, less than, or equal to 50. Print the corresponding message."
      ],
      "metadata": {
        "id": "2d6wm_39YW26"
      }
    },
    {
      "cell_type": "code",
      "source": [
        "def check_number(number):\n",
        "    if number > 50:\n",
        "        return \"Greater than 50\"\n",
        "    elif number < 50:\n",
        "        return \"Less than 50\"\n",
        "    else:\n",
        "        return \"Equal to 50\"\n",
        "\n",
        "        number = int(input(\"Enter a number:\"))\n",
        "        result = check_number(number)\n",
        "        print(result)"
      ],
      "metadata": {
        "id": "YjEBJIspYdN2"
      },
      "execution_count": null,
      "outputs": []
    },
    {
      "cell_type": "markdown",
      "source": [
        "20: Write a Python program that checks if a given character is an uppercase letter. If it is, print \"Uppercase\"; otherwise, print \"Lowercase\".\n",
        "if-elif-else statements:"
      ],
      "metadata": {
        "id": "VkCi36swY_5q"
      }
    },
    {
      "cell_type": "code",
      "source": [
        "def check_character(character):\n",
        "    if character.isupper():\n",
        "        return \"Uppercase\"\n",
        "    elif character.islower():\n",
        "        return \"Lowercase\"\n",
        "character = input(\"Enter a character:\")\n",
        "check_character(character)"
      ],
      "metadata": {
        "colab": {
          "base_uri": "https://localhost:8080/",
          "height": 53
        },
        "id": "Bps4AKdNZFDy",
        "outputId": "f68ca5d9-b27a-4b0e-9e13-d6c6f42c592e"
      },
      "execution_count": null,
      "outputs": [
        {
          "name": "stdout",
          "output_type": "stream",
          "text": [
            "Enter a character:HII\n"
          ]
        },
        {
          "output_type": "execute_result",
          "data": {
            "text/plain": [
              "'Uppercase'"
            ],
            "application/vnd.google.colaboratory.intrinsic+json": {
              "type": "string"
            }
          },
          "metadata": {},
          "execution_count": 73
        }
      ]
    },
    {
      "cell_type": "markdown",
      "source": [
        "21: Write a Python program that checks if a given number is positive, negative, or zero. Print the corresponding message."
      ],
      "metadata": {
        "id": "j2oJlYXGZMI7"
      }
    },
    {
      "cell_type": "code",
      "source": [
        "def check_number(number):\n",
        "    if number > 0:\n",
        "        return \"Positive number\"\n",
        "    elif number < 0:\n",
        "        return \"Negative number\"\n",
        "    else:\n",
        "        return \"Zero\"\n",
        "number = int(input(\"Enter a number:\"))\n",
        "check_number(number)"
      ],
      "metadata": {
        "colab": {
          "base_uri": "https://localhost:8080/",
          "height": 53
        },
        "id": "lZcPBs46ZZMu",
        "outputId": "ccce523a-6093-4a69-b430-e34ab7f9c2e8"
      },
      "execution_count": null,
      "outputs": [
        {
          "name": "stdout",
          "output_type": "stream",
          "text": [
            "Enter a number:0\n"
          ]
        },
        {
          "output_type": "execute_result",
          "data": {
            "text/plain": [
              "'Zero'"
            ],
            "application/vnd.google.colaboratory.intrinsic+json": {
              "type": "string"
            }
          },
          "metadata": {},
          "execution_count": 74
        }
      ]
    },
    {
      "cell_type": "markdown",
      "source": [
        "2: Write a Python program that compares two numbers and prints the larger number."
      ],
      "metadata": {
        "id": "OsJ3asQNZ1E6"
      }
    },
    {
      "cell_type": "code",
      "source": [
        "def compare_numbers(num1, num2):\n",
        "    if num1 > num2:\n",
        "        return num1\n",
        "    else:\n",
        "        return num2\n",
        "num1 = int(input(\"Enter the first number:\"))\n",
        "num2 = int(input(\"Enter the second number:\"))"
      ],
      "metadata": {
        "colab": {
          "base_uri": "https://localhost:8080/"
        },
        "id": "ZXkijbR0Z1zu",
        "outputId": "4f17f34d-2431-4e19-8aaf-db5eb42f2929"
      },
      "execution_count": null,
      "outputs": [
        {
          "name": "stdout",
          "output_type": "stream",
          "text": [
            "Enter the first number:3\n",
            "Enter the second number:9\n"
          ]
        }
      ]
    },
    {
      "cell_type": "markdown",
      "source": [
        "23: Write a Python program that determines whether a given temperature is hot, warm, or cold. Print the corresponding message."
      ],
      "metadata": {
        "id": "Uck0K_2AaPtL"
      }
    },
    {
      "cell_type": "code",
      "source": [
        "def check_temperature(temperature):\n",
        "  if temperature > 80:\n",
        "    print(\"Hot\")\n",
        "  elif temperature >= 60 and temperature <= 80:\n",
        "    print(\"Warm\")\n",
        "  else:\n",
        "    print(\"Cold\")\n",
        "\n",
        "temperature = int(input(\"Enter a temperature: \"))\n",
        "\n",
        "check_temperature(temperature)"
      ],
      "metadata": {
        "colab": {
          "base_uri": "https://localhost:8080/"
        },
        "id": "o1lsXzN1aR6S",
        "outputId": "b9fcd3e8-7a22-48a7-c8ae-1bf67d8f39b0"
      },
      "execution_count": null,
      "outputs": [
        {
          "output_type": "stream",
          "name": "stdout",
          "text": [
            "Enter a temperature: 50\n",
            "Cold\n"
          ]
        }
      ]
    },
    {
      "cell_type": "markdown",
      "source": [
        "24: Write a Python program that checks if a given year is a leap year, a century year, or neither. Print the corresponding message.\n",
        "\n"
      ],
      "metadata": {
        "id": "fwjONLmbawdW"
      }
    },
    {
      "cell_type": "code",
      "source": [
        "def check_year(year):\n",
        "  if year % 4 == 0 and (year % 100 != 0 or year % 400 == 0):\n",
        "    if year % 100 == 0:\n",
        "      print(\"Leap year and century year\")\n",
        "    else:\n",
        "      print(\"Leap year\")\n",
        "  elif year % 100 == 0:\n",
        "    print(\"Century year\")\n",
        "  else:\n",
        "    print(\"Neither leap year nor century year\")\n",
        "\n",
        "year = int(input(\"Enter a year: \"))\n",
        "\n",
        "check_year(year)"
      ],
      "metadata": {
        "colab": {
          "base_uri": "https://localhost:8080/"
        },
        "id": "oo5y5FTya5JG",
        "outputId": "74a20f1f-1cbb-4c9a-febe-3899626f8a66"
      },
      "execution_count": null,
      "outputs": [
        {
          "output_type": "stream",
          "name": "stdout",
          "text": [
            "Enter a year: 2003\n",
            "Neither leap year nor century year\n"
          ]
        }
      ]
    },
    {
      "cell_type": "markdown",
      "source": [
        "25: Write a Python program that categorizes a given character into uppercase letter, lowercase letter, digit, or special character. Print the corresponding message."
      ],
      "metadata": {
        "id": "LVbuFDocblB6"
      }
    },
    {
      "cell_type": "code",
      "source": [
        "def categorize_character(char):\n",
        "  if 'a' <= char <= 'z':\n",
        "    print(\"Lowercase letter\")\n",
        "  elif 'A' <= char <= 'Z':\n",
        "    print(\"Uppercase letter\")\n",
        "  elif '0' <= char <= '9':\n",
        "    print(\"Digit\")\n",
        "  else:\n",
        "    print(\"Special character\")\n",
        "\n",
        "char = input(\"Enter a character: \")\n",
        "\n",
        "categorize_character(char)"
      ],
      "metadata": {
        "colab": {
          "base_uri": "https://localhost:8080/"
        },
        "id": "VdY2GHzcbnvp",
        "outputId": "87c37ba3-72d6-493d-e3fb-d9ebf2627c76"
      },
      "execution_count": null,
      "outputs": [
        {
          "output_type": "stream",
          "name": "stdout",
          "text": [
            "Enter a character: WOOD\n",
            "Uppercase letter\n"
          ]
        }
      ]
    },
    {
      "cell_type": "markdown",
      "source": [
        "26: Write a Python program that calculates the discount percentage based on the purchase amount. Print the corresponding discount percentage."
      ],
      "metadata": {
        "id": "fXYv877fcL02"
      }
    },
    {
      "cell_type": "code",
      "source": [
        "def calculate_discount(purchase_amount):\n",
        "  if purchase_amount >= 1000:\n",
        "    discount_percentage = 10\n",
        "  elif purchase_amount >= 500:\n",
        "    discount_percentage = 5\n",
        "  else:\n",
        "    discount_percentage = 0\n",
        "\n",
        "  print(f\"Discount percentage: {discount_percentage}%\")\n",
        "\n",
        "purchase_amount = float(input(\"Enter the purchase amount: \"))\n",
        "\n",
        "calculate_discount(purchase_amount)"
      ],
      "metadata": {
        "colab": {
          "base_uri": "https://localhost:8080/"
        },
        "id": "vd2sVRyycY4r",
        "outputId": "7c618c36-5a7a-4f74-b689-74caeb875dae"
      },
      "execution_count": null,
      "outputs": [
        {
          "output_type": "stream",
          "name": "stdout",
          "text": [
            "Enter the purchase amount: 600\n",
            "Discount percentage: 5%\n"
          ]
        }
      ]
    },
    {
      "cell_type": "markdown",
      "source": [
        "27: Write a Python program that checks if a given number is divisible by 2, 3, 5, or none of them. Print the corresponding message."
      ],
      "metadata": {
        "id": "HHKKDH8PclBs"
      }
    },
    {
      "cell_type": "code",
      "source": [
        "def calculate_discount(purchase_amount):\n",
        "  if purchase_amount >= 1000:\n",
        "    discount_percentage = 10\n",
        "  elif purchase_amount >= 500:\n",
        "    discount_percentage = 5\n",
        "  else:\n",
        "    discount_percentage = 0\n",
        "\n",
        "  print(f\"Discount percentage: {discount_percentage}%\")\n",
        "\n",
        "purchase_amount = float(input(\"Enter the purchase amount: \"))\n",
        "\n",
        "calculate_discount(purchase_amount)\n"
      ],
      "metadata": {
        "colab": {
          "base_uri": "https://localhost:8080/"
        },
        "id": "1utHvpCpcqbF",
        "outputId": "cb662ca1-ad55-4856-fb86-9b63b986a619"
      },
      "execution_count": null,
      "outputs": [
        {
          "output_type": "stream",
          "name": "stdout",
          "text": [
            "Enter the purchase amount: 1100\n",
            "Discount percentage: 10%\n"
          ]
        }
      ]
    },
    {
      "cell_type": "markdown",
      "source": [
        "8: Write a Python program that determines the grade based on the percentage obtained. Print the corresponding grade."
      ],
      "metadata": {
        "id": "Tp3D5iMWdVmr"
      }
    },
    {
      "cell_type": "code",
      "source": [
        "def determine_grade(percentage):\n",
        "\n",
        "  if percentage >= 90:\n",
        "    return \"A\"\n",
        "  elif percentage >= 80:\n",
        "    return \"B\"\n",
        "  elif percentage >= 70:\n",
        "    return \"C\"\n",
        "  elif percentage >= 60:\n",
        "    return \"D\"\n",
        "  else:\n",
        "    return \"F\"\n",
        "\n",
        "percentage = float(input(\"Enter the percentage: \"))\n",
        "\n",
        "grade = determine_grade(percentage)\n",
        "\n",
        "print(f\"Grade: {grade}\")"
      ],
      "metadata": {
        "colab": {
          "base_uri": "https://localhost:8080/"
        },
        "id": "2cV09-tgfRVu",
        "outputId": "68d878a7-85a8-4de0-9965-5809fc44eb13"
      },
      "execution_count": null,
      "outputs": [
        {
          "output_type": "stream",
          "name": "stdout",
          "text": [
            "Enter the percentage: 93\n",
            "Grade: A\n"
          ]
        }
      ]
    },
    {
      "cell_type": "markdown",
      "source": [
        "29: Write a Python program that checks if a given number is within a specific range. Print the corresponding message."
      ],
      "metadata": {
        "id": "Xv7Wa9rxfrBn"
      }
    },
    {
      "cell_type": "code",
      "source": [
        "def check_range(number):\n",
        "  if 10 <= number <= 50:\n",
        "    print(\"Number is within the range\")\n",
        "  else:\n",
        "    print(\"Number is not within the range\")\n",
        "\n",
        "number = int(input(\"Enter a number: \"))\n",
        "lower_bound = int(input(\"Enter the lower bound: \"))\n",
        "upper_bound = int(input(\"Enter the upper bound: \"))\n",
        "\n",
        "check_range(number, lower_bound, upper_bound)"
      ],
      "metadata": {
        "id": "Si7g5yhTf95U"
      },
      "execution_count": null,
      "outputs": []
    },
    {
      "cell_type": "markdown",
      "source": [
        "30: Write a Python program that checks if a given string is an English word, a number, or a combination of both. Print the corresponding message."
      ],
      "metadata": {
        "id": "KdBGI8Klh0GB"
      }
    },
    {
      "cell_type": "code",
      "source": [
        "!pip install nltk\n",
        "\n",
        "import nltk\n",
        "import re\n",
        "\n",
        "nltk.download('words')\n",
        "from nltk.corpus import words\n",
        "\n",
        "def check_string_type(text):\n",
        "\n",
        "  is_word = text.lower() in words.words()\n",
        "  is_number = text.isdigit()\n",
        "\n",
        "  if is_word and is_number:\n",
        "    print(f\"'{text}' is both an English word and a number\")\n",
        "     elif is_word:\n",
        "    print(f\"'{text}' is an English word.\")\n",
        "  elif is_number:\n",
        "    print(f\"'{text}' is a number.\")\n",
        "  elif re.match(\"^[A-Za-z0-9]*$\", text) and not (is_word or is_number):\n",
        "    print(f\"'{text}' is a combination of letters and numbers.\")\n",
        "  else:\n",
        "    print(f\"'{text}' is neither an English word nor a number, nor a combination.\")\n",
        "\n",
        "\n",
        "text = input(\"Enter a string: \")\n",
        "\n",
        "check_string_type(text)\n",
        "\n",
        "\n",
        "\n",
        "\n"
      ],
      "metadata": {
        "id": "pfIFNZvrh7zs"
      },
      "execution_count": null,
      "outputs": []
    }
  ]
}